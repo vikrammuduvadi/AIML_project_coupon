{
 "cells": [
  {
   "cell_type": "markdown",
   "metadata": {},
   "source": [
    "### Will a Customer Accept the Coupon?\n",
    "\n",
    "**Context**\n",
    "\n",
    "Imagine driving through town and a coupon is delivered to your cell phone for a restaraunt near where you are driving. Would you accept that coupon and take a short detour to the restaraunt? Would you accept the coupon but use it on a sunbsequent trip? Would you ignore the coupon entirely? What if the coupon was for a bar instead of a restaraunt? What about a coffee house? Would you accept a bar coupon with a minor passenger in the car? What about if it was just you and your partner in the car? Would weather impact the rate of acceptance? What about the time of day?\n",
    "\n",
    "Obviously, proximity to the business is a factor on whether the coupon is delivered to the driver or not, but what are the factors that determine whether a driver accepts the coupon once it is delivered to them? How would you determine whether a driver is likely to accept a coupon?\n",
    "\n",
    "**Overview**\n",
    "\n",
    "The goal of this project is to use what you know about visualizations and probability distributions to distinguish between customers who accepted a driving coupon versus those that did not.\n",
    "\n",
    "**Data**\n",
    "\n",
    "This data comes to us from the UCI Machine Learning repository and was collected via a survey on Amazon Mechanical Turk. The survey describes different driving scenarios including the destination, current time, weather, passenger, etc., and then ask the person whether he will accept the coupon if he is the driver. Answers that the user will drive there ‘right away’ or ‘later before the coupon expires’ are labeled as ‘Y = 1’ and answers ‘no, I do not want the coupon’ are labeled as ‘Y = 0’.  There are five different types of coupons -- less expensive restaurants (under \\\\$20), coffee houses, carry out & take away, bar, and more expensive restaurants (\\\\$20 - \\\\$50). "
   ]
  },
  {
   "cell_type": "markdown",
   "metadata": {},
   "source": [
    "**Deliverables**\n",
    "\n",
    "Your final product should be a brief report that highlights the differences between customers who did and did not accept the coupons.  To explore the data you will utilize your knowledge of plotting, statistical summaries, and visualization using Python. You will publish your findings in a public facing github repository as your first portfolio piece. \n",
    "\n",
    "\n",
    "\n"
   ]
  },
  {
   "cell_type": "markdown",
   "metadata": {},
   "source": [
    "### Data Description\n",
    "Keep in mind that these values mentioned below are average values.\n",
    "\n",
    "The attributes of this data set include:\n",
    "1. User attributes\n",
    "    -  Gender: male, female\n",
    "    -  Age: below 21, 21 to 25, 26 to 30, etc.\n",
    "    -  Marital Status: single, married partner, unmarried partner, or widowed\n",
    "    -  Number of children: 0, 1, or more than 1\n",
    "    -  Education: high school, bachelors degree, associates degree, or graduate degree\n",
    "    -  Occupation: architecture & engineering, business & financial, etc.\n",
    "    -  Annual income: less than \\\\$12500, \\\\$12500 - \\\\$24999, \\\\$25000 - \\\\$37499, etc.\n",
    "    -  Number of times that he/she goes to a bar: 0, less than 1, 1 to 3, 4 to 8 or greater than 8\n",
    "    -  Number of times that he/she buys takeaway food: 0, less than 1, 1 to 3, 4 to 8 or greater\n",
    "    than 8\n",
    "    -  Number of times that he/she goes to a coffee house: 0, less than 1, 1 to 3, 4 to 8 or\n",
    "    greater than 8\n",
    "    -  Number of times that he/she eats at a restaurant with average expense less than \\\\$20 per\n",
    "    person: 0, less than 1, 1 to 3, 4 to 8 or greater than 8\n",
    "    -  Number of times that he/she goes to a bar: 0, less than 1, 1 to 3, 4 to 8 or greater than 8\n",
    "    \n",
    "\n",
    "2. Contextual attributes\n",
    "    - Driving destination: home, work, or no urgent destination\n",
    "    - Location of user, coupon and destination: we provide a map to show the geographical\n",
    "    location of the user, destination, and the venue, and we mark the distance between each\n",
    "    two places with time of driving. The user can see whether the venue is in the same\n",
    "    direction as the destination.\n",
    "    - Weather: sunny, rainy, or snowy\n",
    "    - Temperature: 30F, 55F, or 80F\n",
    "    - Time: 10AM, 2PM, or 6PM\n",
    "    - Passenger: alone, partner, kid(s), or friend(s)\n",
    "\n",
    "\n",
    "3. Coupon attributes\n",
    "    - time before it expires: 2 hours or one day"
   ]
  },
  {
   "cell_type": "code",
   "execution_count": 234,
   "metadata": {},
   "outputs": [],
   "source": [
    "import matplotlib.pyplot as plt\n",
    "import seaborn as sns\n",
    "import pandas as pd\n",
    "import numpy as np\n",
    "import plotly.express as px"
   ]
  },
  {
   "cell_type": "markdown",
   "metadata": {},
   "source": [
    "### Problems\n",
    "\n",
    "Use the prompts below to get started with your data analysis.  \n",
    "\n",
    "1. Read in the `coupons.csv` file.\n",
    "\n",
    "\n"
   ]
  },
  {
   "cell_type": "code",
   "execution_count": 217,
   "metadata": {},
   "outputs": [],
   "source": [
    "data = pd.read_csv('data/coupons.csv')"
   ]
  },
  {
   "cell_type": "code",
   "execution_count": 218,
   "metadata": {},
   "outputs": [
    {
     "data": {
      "text/html": [
       "<div>\n",
       "<style scoped>\n",
       "    .dataframe tbody tr th:only-of-type {\n",
       "        vertical-align: middle;\n",
       "    }\n",
       "\n",
       "    .dataframe tbody tr th {\n",
       "        vertical-align: top;\n",
       "    }\n",
       "\n",
       "    .dataframe thead th {\n",
       "        text-align: right;\n",
       "    }\n",
       "</style>\n",
       "<table border=\"1\" class=\"dataframe\">\n",
       "  <thead>\n",
       "    <tr style=\"text-align: right;\">\n",
       "      <th></th>\n",
       "      <th>destination</th>\n",
       "      <th>passanger</th>\n",
       "      <th>weather</th>\n",
       "      <th>temperature</th>\n",
       "      <th>time</th>\n",
       "      <th>coupon</th>\n",
       "      <th>expiration</th>\n",
       "      <th>gender</th>\n",
       "      <th>age</th>\n",
       "      <th>maritalStatus</th>\n",
       "      <th>...</th>\n",
       "      <th>CoffeeHouse</th>\n",
       "      <th>CarryAway</th>\n",
       "      <th>RestaurantLessThan20</th>\n",
       "      <th>Restaurant20To50</th>\n",
       "      <th>toCoupon_GEQ5min</th>\n",
       "      <th>toCoupon_GEQ15min</th>\n",
       "      <th>toCoupon_GEQ25min</th>\n",
       "      <th>direction_same</th>\n",
       "      <th>direction_opp</th>\n",
       "      <th>Y</th>\n",
       "    </tr>\n",
       "  </thead>\n",
       "  <tbody>\n",
       "    <tr>\n",
       "      <th>0</th>\n",
       "      <td>No Urgent Place</td>\n",
       "      <td>Alone</td>\n",
       "      <td>Sunny</td>\n",
       "      <td>55</td>\n",
       "      <td>2PM</td>\n",
       "      <td>Restaurant(&lt;20)</td>\n",
       "      <td>1d</td>\n",
       "      <td>Female</td>\n",
       "      <td>21</td>\n",
       "      <td>Unmarried partner</td>\n",
       "      <td>...</td>\n",
       "      <td>never</td>\n",
       "      <td>NaN</td>\n",
       "      <td>4~8</td>\n",
       "      <td>1~3</td>\n",
       "      <td>1</td>\n",
       "      <td>0</td>\n",
       "      <td>0</td>\n",
       "      <td>0</td>\n",
       "      <td>1</td>\n",
       "      <td>1</td>\n",
       "    </tr>\n",
       "    <tr>\n",
       "      <th>1</th>\n",
       "      <td>No Urgent Place</td>\n",
       "      <td>Friend(s)</td>\n",
       "      <td>Sunny</td>\n",
       "      <td>80</td>\n",
       "      <td>10AM</td>\n",
       "      <td>Coffee House</td>\n",
       "      <td>2h</td>\n",
       "      <td>Female</td>\n",
       "      <td>21</td>\n",
       "      <td>Unmarried partner</td>\n",
       "      <td>...</td>\n",
       "      <td>never</td>\n",
       "      <td>NaN</td>\n",
       "      <td>4~8</td>\n",
       "      <td>1~3</td>\n",
       "      <td>1</td>\n",
       "      <td>0</td>\n",
       "      <td>0</td>\n",
       "      <td>0</td>\n",
       "      <td>1</td>\n",
       "      <td>0</td>\n",
       "    </tr>\n",
       "    <tr>\n",
       "      <th>2</th>\n",
       "      <td>No Urgent Place</td>\n",
       "      <td>Friend(s)</td>\n",
       "      <td>Sunny</td>\n",
       "      <td>80</td>\n",
       "      <td>10AM</td>\n",
       "      <td>Carry out &amp; Take away</td>\n",
       "      <td>2h</td>\n",
       "      <td>Female</td>\n",
       "      <td>21</td>\n",
       "      <td>Unmarried partner</td>\n",
       "      <td>...</td>\n",
       "      <td>never</td>\n",
       "      <td>NaN</td>\n",
       "      <td>4~8</td>\n",
       "      <td>1~3</td>\n",
       "      <td>1</td>\n",
       "      <td>1</td>\n",
       "      <td>0</td>\n",
       "      <td>0</td>\n",
       "      <td>1</td>\n",
       "      <td>1</td>\n",
       "    </tr>\n",
       "    <tr>\n",
       "      <th>3</th>\n",
       "      <td>No Urgent Place</td>\n",
       "      <td>Friend(s)</td>\n",
       "      <td>Sunny</td>\n",
       "      <td>80</td>\n",
       "      <td>2PM</td>\n",
       "      <td>Coffee House</td>\n",
       "      <td>2h</td>\n",
       "      <td>Female</td>\n",
       "      <td>21</td>\n",
       "      <td>Unmarried partner</td>\n",
       "      <td>...</td>\n",
       "      <td>never</td>\n",
       "      <td>NaN</td>\n",
       "      <td>4~8</td>\n",
       "      <td>1~3</td>\n",
       "      <td>1</td>\n",
       "      <td>1</td>\n",
       "      <td>0</td>\n",
       "      <td>0</td>\n",
       "      <td>1</td>\n",
       "      <td>0</td>\n",
       "    </tr>\n",
       "    <tr>\n",
       "      <th>4</th>\n",
       "      <td>No Urgent Place</td>\n",
       "      <td>Friend(s)</td>\n",
       "      <td>Sunny</td>\n",
       "      <td>80</td>\n",
       "      <td>2PM</td>\n",
       "      <td>Coffee House</td>\n",
       "      <td>1d</td>\n",
       "      <td>Female</td>\n",
       "      <td>21</td>\n",
       "      <td>Unmarried partner</td>\n",
       "      <td>...</td>\n",
       "      <td>never</td>\n",
       "      <td>NaN</td>\n",
       "      <td>4~8</td>\n",
       "      <td>1~3</td>\n",
       "      <td>1</td>\n",
       "      <td>1</td>\n",
       "      <td>0</td>\n",
       "      <td>0</td>\n",
       "      <td>1</td>\n",
       "      <td>0</td>\n",
       "    </tr>\n",
       "  </tbody>\n",
       "</table>\n",
       "<p>5 rows × 26 columns</p>\n",
       "</div>"
      ],
      "text/plain": [
       "       destination  passanger weather  temperature  time  \\\n",
       "0  No Urgent Place      Alone   Sunny           55   2PM   \n",
       "1  No Urgent Place  Friend(s)   Sunny           80  10AM   \n",
       "2  No Urgent Place  Friend(s)   Sunny           80  10AM   \n",
       "3  No Urgent Place  Friend(s)   Sunny           80   2PM   \n",
       "4  No Urgent Place  Friend(s)   Sunny           80   2PM   \n",
       "\n",
       "                  coupon expiration  gender age      maritalStatus  ...  \\\n",
       "0        Restaurant(<20)         1d  Female  21  Unmarried partner  ...   \n",
       "1           Coffee House         2h  Female  21  Unmarried partner  ...   \n",
       "2  Carry out & Take away         2h  Female  21  Unmarried partner  ...   \n",
       "3           Coffee House         2h  Female  21  Unmarried partner  ...   \n",
       "4           Coffee House         1d  Female  21  Unmarried partner  ...   \n",
       "\n",
       "   CoffeeHouse CarryAway RestaurantLessThan20 Restaurant20To50  \\\n",
       "0        never       NaN                  4~8              1~3   \n",
       "1        never       NaN                  4~8              1~3   \n",
       "2        never       NaN                  4~8              1~3   \n",
       "3        never       NaN                  4~8              1~3   \n",
       "4        never       NaN                  4~8              1~3   \n",
       "\n",
       "  toCoupon_GEQ5min toCoupon_GEQ15min toCoupon_GEQ25min direction_same  \\\n",
       "0                1                 0                 0              0   \n",
       "1                1                 0                 0              0   \n",
       "2                1                 1                 0              0   \n",
       "3                1                 1                 0              0   \n",
       "4                1                 1                 0              0   \n",
       "\n",
       "  direction_opp  Y  \n",
       "0             1  1  \n",
       "1             1  0  \n",
       "2             1  1  \n",
       "3             1  0  \n",
       "4             1  0  \n",
       "\n",
       "[5 rows x 26 columns]"
      ]
     },
     "execution_count": 218,
     "metadata": {},
     "output_type": "execute_result"
    }
   ],
   "source": [
    "data.head()"
   ]
  },
  {
   "cell_type": "markdown",
   "metadata": {},
   "source": [
    "2. Investigate the dataset for missing or problematic data."
   ]
  },
  {
   "cell_type": "code",
   "execution_count": 219,
   "metadata": {},
   "outputs": [
    {
     "name": "stdout",
     "output_type": "stream",
     "text": [
      "destination                 0\n",
      "passanger                   0\n",
      "weather                     0\n",
      "temperature                 0\n",
      "time                        0\n",
      "coupon                      0\n",
      "expiration                  0\n",
      "gender                      0\n",
      "age                         0\n",
      "maritalStatus               0\n",
      "has_children                0\n",
      "education                   0\n",
      "occupation                  0\n",
      "income                      0\n",
      "car                     12576\n",
      "Bar                       107\n",
      "CoffeeHouse               217\n",
      "CarryAway                 151\n",
      "RestaurantLessThan20      130\n",
      "Restaurant20To50          189\n",
      "toCoupon_GEQ5min            0\n",
      "toCoupon_GEQ15min           0\n",
      "toCoupon_GEQ25min           0\n",
      "direction_same              0\n",
      "direction_opp               0\n",
      "Y                           0\n",
      "dtype: int64\n"
     ]
    }
   ],
   "source": [
    "#Let's understand the dataset - LEt's see how many rows, columns are present\n",
    "#data.info()\n",
    "#The above code gives us 12684 rows and 26 columns\n",
    "\n",
    "\n",
    "#First, let's check to see how many columns have NAN in the whole data set\n",
    "data_null_count = data.isnull().sum()\n",
    "print(data_null_count)\n",
    "\n"
   ]
  },
  {
   "cell_type": "markdown",
   "metadata": {},
   "source": [
    "3. Decide what to do about your missing data -- drop, replace, other..."
   ]
  },
  {
   "cell_type": "code",
   "execution_count": 220,
   "metadata": {},
   "outputs": [
    {
     "name": "stdout",
     "output_type": "stream",
     "text": [
      "destination             0\n",
      "passanger               0\n",
      "weather                 0\n",
      "temperature             0\n",
      "time                    0\n",
      "coupon                  0\n",
      "expiration              0\n",
      "gender                  0\n",
      "age                     0\n",
      "maritalStatus           0\n",
      "has_children            0\n",
      "education               0\n",
      "occupation              0\n",
      "income                  0\n",
      "Bar                     0\n",
      "CoffeeHouse             0\n",
      "CarryAway               0\n",
      "RestaurantLessThan20    0\n",
      "Restaurant20To50        0\n",
      "toCoupon_GEQ5min        0\n",
      "toCoupon_GEQ15min       0\n",
      "toCoupon_GEQ25min       0\n",
      "direction_same          0\n",
      "direction_opp           0\n",
      "Y                       0\n",
      "dtype: int64\n",
      "<class 'pandas.core.frame.DataFrame'>\n",
      "Int64Index: 12298 entries, 22 to 12683\n",
      "Data columns (total 25 columns):\n",
      " #   Column                Non-Null Count  Dtype \n",
      "---  ------                --------------  ----- \n",
      " 0   destination           12298 non-null  object\n",
      " 1   passanger             12298 non-null  object\n",
      " 2   weather               12298 non-null  object\n",
      " 3   temperature           12298 non-null  int64 \n",
      " 4   time                  12298 non-null  object\n",
      " 5   coupon                12298 non-null  object\n",
      " 6   expiration            12298 non-null  object\n",
      " 7   gender                12298 non-null  object\n",
      " 8   age                   12298 non-null  object\n",
      " 9   maritalStatus         12298 non-null  object\n",
      " 10  has_children          12298 non-null  int64 \n",
      " 11  education             12298 non-null  object\n",
      " 12  occupation            12298 non-null  object\n",
      " 13  income                12298 non-null  object\n",
      " 14  Bar                   12298 non-null  object\n",
      " 15  CoffeeHouse           12298 non-null  object\n",
      " 16  CarryAway             12298 non-null  object\n",
      " 17  RestaurantLessThan20  12298 non-null  object\n",
      " 18  Restaurant20To50      12298 non-null  object\n",
      " 19  toCoupon_GEQ5min      12298 non-null  int64 \n",
      " 20  toCoupon_GEQ15min     12298 non-null  int64 \n",
      " 21  toCoupon_GEQ25min     12298 non-null  int64 \n",
      " 22  direction_same        12298 non-null  int64 \n",
      " 23  direction_opp         12298 non-null  int64 \n",
      " 24  Y                     12298 non-null  int64 \n",
      "dtypes: int64(8), object(17)\n",
      "memory usage: 2.4+ MB\n"
     ]
    }
   ],
   "source": [
    "#From the investigated data, the car column is pretty much useless. It only has 108 values populated.\n",
    "#So, as a first step, get rid of the car column\n",
    "data = data.drop(['car'],axis = 1)\n",
    "\n",
    "#For coffee house and Bar, let's populate 'Not Specified' for NAN. We don't want to lose rows unnecessarily\n",
    "data['Bar'].fillna('Not_Specified', inplace=True)\n",
    "data['CoffeeHouse'].fillna('Not_Specified', inplace=True)\n",
    "data_null_count = data.isnull().sum()\n",
    "\n",
    "#For the remaining nan's, simply delete the nan rows. This way we have a dataset without any missing values.\n",
    "data = data.dropna()\n",
    "data_null_count = data.isnull().sum()\n",
    "print(data_null_count)\n",
    "\n",
    "data.info()\n",
    "#At this point, the data is clean and ready to use.\n",
    "#12298 rows and 25 columns!!"
   ]
  },
  {
   "cell_type": "markdown",
   "metadata": {},
   "source": [
    "4. What proportion of the total observations chose to accept the coupon? \n",
    "\n"
   ]
  },
  {
   "cell_type": "code",
   "execution_count": 6,
   "metadata": {},
   "outputs": [
    {
     "name": "stdout",
     "output_type": "stream",
     "text": [
      "Total_observations  12298\n",
      "Total_accepted_coupon  6973\n",
      "Percentage of coupons accepted is 56.700276467718325\n"
     ]
    }
   ],
   "source": [
    "total_observations = data.shape[0]\n",
    "print(\"Total_observations \",total_observations)\n",
    "accept_coupon = data[data['Y'] == 1].shape[0]\n",
    "print(\"Total_accepted_coupon \",accept_coupon)\n",
    "\n",
    "percent_accept = (accept_coupon/total_observations)*100\n",
    "print(\"Percentage of coupons accepted is\",percent_accept)"
   ]
  },
  {
   "cell_type": "markdown",
   "metadata": {},
   "source": [
    "5. Use a bar plot to visualize the `coupon` column."
   ]
  },
  {
   "cell_type": "code",
   "execution_count": 7,
   "metadata": {},
   "outputs": [
    {
     "data": {
      "text/plain": [
       "[Text(0, 0, 'Restaurant(<20)'),\n",
       " Text(1, 0, 'Coffee House'),\n",
       " Text(2, 0, 'Bar'),\n",
       " Text(3, 0, 'Carry out & Take away'),\n",
       " Text(4, 0, 'Restaurant(20-50)')]"
      ]
     },
     "execution_count": 7,
     "metadata": {},
     "output_type": "execute_result"
    },
    {
     "data": {
      "image/png": "[encoded data removed]",
      "text/plain": [
       "<Figure size 640x480 with 1 Axes>"
      ]
     },
     "metadata": {},
     "output_type": "display_data"
    }
   ],
   "source": [
    "#The objective here is to try and get a breakdown of the number of coupons that were accepted\n",
    "myplot = sns.countplot(x='coupon',data=data)\n",
    "myplot.set_xticklabels(myplot.get_xticklabels(), rotation=50)\n"
   ]
  },
  {
   "cell_type": "code",
   "execution_count": 8,
   "metadata": {},
   "outputs": [
    {
     "data": {
      "text/plain": [
       "[Text(0, 0, 'Restaurant(<20)'),\n",
       " Text(1, 0, 'Coffee House'),\n",
       " Text(2, 0, 'Bar'),\n",
       " Text(3, 0, 'Carry out & Take away'),\n",
       " Text(4, 0, 'Restaurant(20-50)')]"
      ]
     },
     "execution_count": 8,
     "metadata": {},
     "output_type": "execute_result"
    },
    {
     "data": {
      "image/png": "[encoded data removed]",
      "text/plain": [
       "<Figure size 640x480 with 1 Axes>"
      ]
     },
     "metadata": {},
     "output_type": "display_data"
    }
   ],
   "source": [
    "#USe the hue='Y' to understand how many people accepted the offered coupons\n",
    "myplot = sns.countplot(x='coupon',data=data,hue='Y')\n",
    "myplot.set_xticklabels(myplot.get_xticklabels(), rotation=50)"
   ]
  },
  {
   "cell_type": "markdown",
   "metadata": {},
   "source": [
    "6. Use a histogram to visualize the temperature column."
   ]
  },
  {
   "cell_type": "code",
   "execution_count": 9,
   "metadata": {},
   "outputs": [
    {
     "name": "stdout",
     "output_type": "stream",
     "text": [
      "22    55\n",
      "23    80\n",
      "24    80\n",
      "25    80\n",
      "26    80\n",
      "27    80\n",
      "28    80\n",
      "29    80\n",
      "30    80\n",
      "31    80\n",
      "Name: temperature, dtype: int64\n"
     ]
    },
    {
     "data": {
      "text/plain": [
       "<Axes: xlabel='temperature', ylabel='Count'>"
      ]
     },
     "execution_count": 9,
     "metadata": {},
     "output_type": "execute_result"
    },
    {
     "data": {
      "image/png": "[encoded data removed]",
      "text/plain": [
       "<Figure size 640x480 with 1 Axes>"
      ]
     },
     "metadata": {},
     "output_type": "display_data"
    }
   ],
   "source": [
    "data1 = data['temperature']\n",
    "print(data1.head(10))\n",
    "sns.histplot(data = data['temperature'])"
   ]
  },
  {
   "cell_type": "markdown",
   "metadata": {},
   "source": [
    "**Investigating the Bar Coupons**\n",
    "\n",
    "Now, we will lead you through an exploration of just the bar related coupons.  \n",
    "\n",
    "1. Create a new `DataFrame` that contains just the bar coupons.\n"
   ]
  },
  {
   "cell_type": "code",
   "execution_count": 216,
   "metadata": {},
   "outputs": [
    {
     "name": "stdout",
     "output_type": "stream",
     "text": [
      "Total number of bar_coupons are  1952\n"
     ]
    }
   ],
   "source": [
    "bar_data = data[data['coupon'] == 'Bar']\n",
    "bar_total_coupons = bar_data.shape[0]\n",
    "print(\"Total number of bar_coupons are \",bar_data.shape[0])\n"
   ]
  },
  {
   "cell_type": "markdown",
   "metadata": {},
   "source": [
    "2. What proportion of bar coupons were accepted?\n"
   ]
  },
  {
   "cell_type": "code",
   "execution_count": 246,
   "metadata": {},
   "outputs": [
    {
     "name": "stdout",
     "output_type": "stream",
     "text": [
      "bar coupons accepted is 797\n",
      "bar coupons accepted percentage is 40.829918032786885\n"
     ]
    },
    {
     "data": {
      "text/plain": [
       "Text(0, 0.5, 'Count of Bar coupons')"
      ]
     },
     "execution_count": 246,
     "metadata": {},
     "output_type": "execute_result"
    },
    {
     "data": {
      "image/png": "[encoded data removed]",
      "text/plain": [
       "<Figure size 1400x800 with 1 Axes>"
      ]
     },
     "metadata": {},
     "output_type": "display_data"
    }
   ],
   "source": [
    "bar_coupons_acc = bar_data[bar_data['Y'] == 1].shape[0]\n",
    "print(\"bar coupons accepted is\",bar_coupons_acc)\n",
    "\n",
    "prop_bar_accepted = (bar_coupons_acc/bar_total_coupons) * 100\n",
    "print(\"bar coupons accepted percentage is\", prop_bar_accepted)\n",
    "#40.82 percent of bar coupons were accepted.\n",
    "ax = bar_data['Y'].value_counts().plot(kind='bar',\n",
    "                                  figsize=(14,8),\n",
    "                                  title=\"Bar coupons accepted\")\n",
    "ax.set_xlabel(\"Bar coupons accepted\")\n",
    "ax.set_ylabel(\"Count of Bar coupons\")"
   ]
  },
  {
   "cell_type": "markdown",
   "metadata": {},
   "source": [
    "3. Compare the acceptance rate between those who went to a bar 3 or fewer times a month to those who went more.\n"
   ]
  },
  {
   "cell_type": "code",
   "execution_count": 252,
   "metadata": {},
   "outputs": [
    {
     "name": "stdout",
     "output_type": "stream",
     "text": [
      "Bar    Y\n",
      "1~3    1    245\n",
      "       0    134\n",
      "less1  0    315\n",
      "       1    249\n",
      "never  0    651\n",
      "       1    150\n",
      "Name: Y, dtype: int64\n",
      "Bar  Y\n",
      "4~8  1    117\n",
      "     0     33\n",
      "gt8  1     33\n",
      "     0     13\n",
      "Name: Y, dtype: int64\n",
      "1744\n",
      "196\n",
      "0.36926605504587157\n",
      "Acceptance of 3 or fewer in pct is  36.92660550458716\n",
      "Acceptance of 4 or more in pct is 76.53061224489795\n"
     ]
    },
    {
     "data": {
      "text/plain": [
       "Text(0, 0.5, 'Count of Bar coupons')"
      ]
     },
     "execution_count": 252,
     "metadata": {},
     "output_type": "execute_result"
    },
    {
     "data": {
      "image/png": "[encoded data removed]",
      "text/plain": [
       "<Figure size 1400x800 with 1 Axes>"
      ]
     },
     "metadata": {},
     "output_type": "display_data"
    }
   ],
   "source": [
    "three_or_fewer_options = ['1~3','less1','never']\n",
    "four_more = ['4~8','gt8']\n",
    "\n",
    "\n",
    "three_or_under_df = bar_data[bar_data['Bar'].isin(three_or_fewer_options)]\n",
    "four_or_more_df = bar_data[bar_data['Bar'].isin(four_more)]\n",
    "\n",
    "acc_three_under = three_or_under_df.groupby('Bar')['Y'].value_counts()\n",
    "acc_four_over =  four_or_more_df.groupby('Bar')['Y'].value_counts()\n",
    "total_three_under =  three_or_under_df.groupby('Bar')['Y'].value_counts().sum()\n",
    "total_four_over = four_or_more_df.groupby('Bar')['Y'].value_counts().sum()\n",
    "\n",
    "\n",
    "print(acc_three_under)\n",
    "print(acc_four_over)\n",
    "print(total_three_under)\n",
    "print(total_four_over)\n",
    "\n",
    "#Now sum total of Bar visits 1-3, less1, none gives the percentage\n",
    "acc_3_fewer = (245+249+150)/(total_three_under)\n",
    "print(acc_3_fewer)\n",
    "acc_3_fewer_pct = (acc_3_fewer)*100\n",
    "print(\"Acceptance of 3 or fewer in pct is \",acc_3_fewer_pct)\n",
    "\n",
    "#For those who went more, add 4~8,gt8\n",
    "acc_4_or_more = (33+117)/(total_four_over)\n",
    "acc_4_or_more_pct = acc_4_or_more*100\n",
    "print(\"Acceptance of 4 or more in pct is\",acc_4_or_more_pct)\n",
    "#for 3 or fewer, count the probability of 1-3, less1, never\n",
    "#Acceptance of 3 or fewer = 36.92%\n",
    "#Acceptance of 4 or more = 76.53%\n",
    "ax = three_or_under_df['Y'].value_counts().plot(kind='bar',\n",
    "                                                figsize=(14,8),\n",
    "                                                title=\"Bar visits 3 or under3\")\n",
    "ax.set_xlabel(\"Bar coupons accepted\")\n",
    "ax.set_ylabel(\"Count of Bar coupons\")\n",
    "\n"
   ]
  },
  {
   "cell_type": "code",
   "execution_count": 253,
   "metadata": {},
   "outputs": [
    {
     "data": {
      "text/plain": [
       "Text(0, 0.5, 'Count of Bar coupons')"
      ]
     },
     "execution_count": 253,
     "metadata": {},
     "output_type": "execute_result"
    },
    {
     "data": {
      "image/png": "[encoded data removed]",
      "text/plain": [
       "<Figure size 1400x800 with 1 Axes>"
      ]
     },
     "metadata": {},
     "output_type": "display_data"
    }
   ],
   "source": [
    "ax = four_or_more_df['Y'].value_counts().plot(kind='bar',\n",
    "                                              figsize=(14,8),\n",
    "                                              title=\"Bar visits 4 or more\")\n",
    "ax.set_xlabel(\"Bar coupons accepted\")\n",
    "ax.set_ylabel(\"Count of Bar coupons\")"
   ]
  },
  {
   "cell_type": "markdown",
   "metadata": {},
   "source": [
    "4. Compare the acceptance rate between drivers who go to a bar more than once a month and are over the age of 25 to the all others.  Is there a difference?\n"
   ]
  },
  {
   "cell_type": "code",
   "execution_count": 258,
   "metadata": {},
   "outputs": [
    {
     "name": "stdout",
     "output_type": "stream",
     "text": [
      "Total_acc num is  406\n",
      "Total acc yes count is* 281\n",
      "Acc rate for age25+people with min bar is  69.21182266009852\n",
      "Bar  Y\n",
      "1~3  1    176\n",
      "     0     94\n",
      "4~8  1     84\n",
      "     0     22\n",
      "gt8  1     21\n",
      "     0      9\n",
      "Name: Y, dtype: int64\n",
      "575\n",
      "all_age_acc percentage is 48.869565217391305\n"
     ]
    },
    {
     "data": {
      "image/png": "[encoded data removed]",
      "text/plain": [
       "<Figure size 1400x800 with 1 Axes>"
      ]
     },
     "metadata": {},
     "output_type": "display_data"
    }
   ],
   "source": [
    "#Let's get a filtered data set that contains only the columns we need\n",
    "flt_bar_data = bar_data[['coupon','age','Y','Bar']]\n",
    "options = ['1~3','4~8','gt8']\n",
    "#print(flt_bar_data.head(5))\n",
    "#Here we have to convert the age column to int, but looks like the age has 50plus.\n",
    "#Convert the 50plus to 50\n",
    "flt_bar_data1 = flt_bar_data.replace(to_replace =['50plus','below21'],value=[51,20])\n",
    "#print(flt_bar_data1.tail(30))\n",
    "#Now convert the age from Object to int\n",
    "flt_bar_data1['age'] = flt_bar_data1['age'].astype(int)\n",
    "#print(opt_data1.head(20))\n",
    "option_data = flt_bar_data1[flt_bar_data1['Bar'].isin(options)]\n",
    "option_data1 = option_data[option_data['age']>25]\n",
    "#print(option_data1.head(50))\n",
    "option_data2 = option_data1.groupby('Bar')['Y'].value_counts()\n",
    "#print(option_data2)\n",
    "total_acceptance_num =  option_data1.groupby('Bar')['Y'].value_counts().sum()\n",
    "total_acceptance_yes = 176 + 84 + 21\n",
    "print(\"Total_acc num is \",total_acceptance_num)\n",
    "print(\"Total acc yes count is*\",total_acceptence_yes)\n",
    "#Now get the percentage and the total sample size\n",
    "acceptance_rate = (total_acceptance_yes/total_acceptance_num)*100\n",
    "print(\"Acc rate for age25+people with min bar is \",acceptance_rate)\n",
    "ax = option_data1['Y'].value_counts().plot(kind='bar',\n",
    "                                              figsize=(14,8),\n",
    "                                              title=\"Visit Bar more than once and 25yrs atleast\")\n",
    "ax.set_xlabel(\"Bar coupons accepted\")\n",
    "ax.set_ylabel(\"Count of Bar coupons\")\n",
    "#The next comparison I am trying to do is \n",
    "#People who go to the bar more than once but no age limit\n",
    "#There is no 25 year old age limit\n",
    "no_age_df = option_data1.groupby('Bar')['Y'].value_counts()\n",
    "print(no_age_df)\n",
    "no_age_limit_df_total = option_data.groupby('Bar')['Y'].value_counts().sum()\n",
    "print(no_age_df_total)\n",
    "all_age_acc = (total_acceptance_yes/no_age_limit_df_total)*100\n",
    "print(\"all_age_acc percentage is\",all_age_acc)\n",
    "\n",
    "#Basically there is a 21% increase because of adding a 25 year old age limit\n",
    "#With 25 year old age limit acceptance rate is 69%, without 48%"
   ]
  },
  {
   "cell_type": "markdown",
   "metadata": {},
   "source": [
    "5. Use the same process to compare the acceptance rate between drivers who go to bars more than once a month and had passengers that were not a kid and had occupations other than farming, fishing, or forestry. \n"
   ]
  },
  {
   "cell_type": "code",
   "execution_count": 259,
   "metadata": {},
   "outputs": [
    {
     "name": "stdout",
     "output_type": "stream",
     "text": [
      "Bar  Y\n",
      "1~3  1    234\n",
      "     0    111\n",
      "4~8  1    113\n",
      "     0     30\n",
      "gt8  1     32\n",
      "     0     13\n",
      "Name: Y, dtype: int64\n",
      "533\n",
      "71.10694183864915\n"
     ]
    }
   ],
   "source": [
    "bar_data_filter = bar_data[['coupon','age','Y','Bar','passanger','occupation']]\n",
    "bar_options = ['1~3','4~8','gt8']\n",
    "bar_options_data = bar_data_filter[bar_data_filter['Bar'].isin(bar_options)]\n",
    "#print(bar_options_data.info())\n",
    "kid_option = ['Kid(s)']\n",
    "bar_options_data_no_kid = bar_options_data[~bar_options_data['passanger'].isin(kid_option)]\n",
    "#print(bar_options_data_no_kid.info())\n",
    "#print(bar_options_data_no_kid.head(20))\n",
    "occ_options = ['farming','fishing','forestry']\n",
    "occ_filter = bar_options_data_no_kid[~bar_options_data_no_kid['occupation'].isin(occ_options)]\n",
    "occ_filter_grp = occ_filter.groupby('Bar')['Y'].value_counts()\n",
    "print(occ_filter_grp)\n",
    "total_count = occ_filter.groupby('Bar')['Y'].value_counts().sum()\n",
    "print(total_count)\n",
    "yes_count = 234+113+32\n",
    "total_acc_rate = (yes_count/total_count)*100\n",
    "print(total_acc_rate)\n",
    "\n",
    "#The acceptance rate for this case is 71.1%"
   ]
  },
  {
   "cell_type": "code",
   "execution_count": null,
   "metadata": {},
   "outputs": [],
   "source": []
  },
  {
   "cell_type": "code",
   "execution_count": null,
   "metadata": {},
   "outputs": [],
   "source": []
  },
  {
   "cell_type": "markdown",
   "metadata": {},
   "source": [
    "6. Compare the acceptance rates between those drivers who:\n",
    "\n",
    "- go to bars more than once a month, had passengers that were not a kid, and were not widowed *OR*\n",
    "- go to bars more than once a month and are under the age of 30 *OR*\n",
    "- go to cheap restaurants more than 4 times a month and income is less than 50K. \n",
    "\n"
   ]
  },
  {
   "cell_type": "code",
   "execution_count": 117,
   "metadata": {},
   "outputs": [
    {
     "name": "stdout",
     "output_type": "stream",
     "text": [
      "Bar  Y\n",
      "1~3  1    234\n",
      "     0    111\n",
      "4~8  1    113\n",
      "     0     30\n",
      "gt8  1     32\n",
      "     0     13\n",
      "Name: Y, dtype: int64\n",
      "533\n",
      "71.10694183864915\n"
     ]
    }
   ],
   "source": [
    "#Let's do the calculations for the below\n",
    "#1. go to bars more than once a month, had passengers that were not a kid, and were not widowed \n",
    "data1 = data[data['maritalStatus'] == 'Widowed']\n",
    "#We know from the above info that 108 entries exist for the Widowed\n",
    "\n",
    "#data1.info()\n",
    "bar_data_filter = bar_data[['coupon','age','Y','Bar','passanger','maritalStatus']]\n",
    "bar_options = ['1~3','4~8','gt8']\n",
    "bar_options_data = bar_data_filter[bar_data_filter['Bar'].isin(bar_options)]\n",
    "#print(bar_options_data.info())\n",
    "kid_option = ['Kid(s)']\n",
    "bar_options_data_no_kid = bar_options_data[~bar_options_data['passanger'].isin(kid_option)]\n",
    "#print(bar_options_data_no_kid.head(80))\n",
    "marital_option = ['Widowed']\n",
    "bar_data_no_kid_not_widowed = bar_options_data_no_kid[~bar_options_data_no_kid['maritalStatus'].isin(marital_option)]\n",
    "#bar_data_no_kid_not_widowed.info()\n",
    "\n",
    "\n",
    "filter_grp =  bar_data_no_kid_not_widowed.groupby('Bar')['Y'].value_counts()\n",
    "print(filter_grp)\n",
    "total_count = occ_filter.groupby('Bar')['Y'].value_counts().sum()\n",
    "print(total_count)\n",
    "yes_count = 234+113+32\n",
    "total_acc_rate = (yes_count/total_count)*100\n",
    "print(total_acc_rate)\n",
    "\n",
    "#The acceptance rate is still 71.1%\n",
    "\n",
    "#Lets try to next find this data - Go to the bar more than once a month and are under the age of 30\n"
   ]
  },
  {
   "cell_type": "code",
   "execution_count": 126,
   "metadata": {},
   "outputs": [
    {
     "name": "stdout",
     "output_type": "stream",
     "text": [
      "   coupon age  Y    Bar\n",
      "24    Bar  21  1  never\n",
      "35    Bar  21  1  never\n",
      "39    Bar  21  1  never\n",
      "46    Bar  46  0  never\n",
      "57    Bar  46  0  never\n",
      "Bar  Y\n",
      "1~3  1    132\n",
      "     0     66\n",
      "4~8  1     80\n",
      "     0     19\n",
      "gt8  1     27\n",
      "     0      7\n",
      "Name: Y, dtype: int64\n",
      "Total_acc num is  331\n",
      "Total acc yes count is* 239\n",
      "Acc rate for age30 under people with min bar is  72.20543806646525\n"
     ]
    }
   ],
   "source": [
    "#Lets try to next find this data - Go to the bar more than once a month and are under the age of 30\n",
    "\n",
    "flt_bar_data = bar_data[['coupon','age','Y','Bar']]\n",
    "options = ['1~3','4~8','gt8']\n",
    "print(flt_bar_data.head(5))\n",
    "#Here we have to convert the age column to int, but looks like the age has 50plus.\n",
    "#Convert the 50plus to 50\n",
    "flt_bar_data1 = flt_bar_data.replace(to_replace =['50plus','below21'],value=[51,20])\n",
    "#print(flt_bar_data1.tail(30))\n",
    "#Now convert the age from Object to int\n",
    "flt_bar_data1['age'] = flt_bar_data1['age'].astype(int)\n",
    "#print(opt_data1.head(20))\n",
    "option_data = flt_bar_data1[flt_bar_data1['Bar'].isin(options)]\n",
    "option_data1 = option_data[option_data['age']<30]\n",
    "#print(option_data1.head(50))\n",
    "option_data2 = option_data1.groupby('Bar')['Y'].value_counts()\n",
    "print(option_data2)\n",
    "total_acceptance_num =  option_data1.groupby('Bar')['Y'].value_counts().sum()\n",
    "acceptance_yes = 132+80+27\n",
    "print(\"Total_acc num is \",total_acceptance_num)\n",
    "print(\"Total acc yes count is*\",acceptance_yes)\n",
    "#Now get the percentage and the total sample size\n",
    "acceptance_rate = (acceptance_yes/total_acceptance_num)*100\n",
    "print(\"Acc rate for age30 under people with min bar is \",acceptance_rate)\n",
    "#Thus if we limit the ages to under 30, the acceptance percentage goes up to 72.2%"
   ]
  },
  {
   "cell_type": "code",
   "execution_count": 184,
   "metadata": {},
   "outputs": [
    {
     "name": "stdout",
     "output_type": "stream",
     "text": [
      "<class 'pandas.core.frame.DataFrame'>\n",
      "Int64Index: 1199 entries, 44 to 12628\n",
      "Data columns (total 25 columns):\n",
      " #   Column                Non-Null Count  Dtype \n",
      "---  ------                --------------  ----- \n",
      " 0   destination           1199 non-null   object\n",
      " 1   passanger             1199 non-null   object\n",
      " 2   weather               1199 non-null   object\n",
      " 3   temperature           1199 non-null   int64 \n",
      " 4   time                  1199 non-null   object\n",
      " 5   coupon                1199 non-null   object\n",
      " 6   expiration            1199 non-null   object\n",
      " 7   gender                1199 non-null   object\n",
      " 8   age                   1199 non-null   object\n",
      " 9   maritalStatus         1199 non-null   object\n",
      " 10  has_children          1199 non-null   int64 \n",
      " 11  education             1199 non-null   object\n",
      " 12  occupation            1199 non-null   object\n",
      " 13  income                1199 non-null   object\n",
      " 14  Bar                   1199 non-null   object\n",
      " 15  CoffeeHouse           1199 non-null   object\n",
      " 16  CarryAway             1199 non-null   object\n",
      " 17  RestaurantLessThan20  1199 non-null   object\n",
      " 18  Restaurant20To50      1199 non-null   object\n",
      " 19  toCoupon_GEQ5min      1199 non-null   int64 \n",
      " 20  toCoupon_GEQ15min     1199 non-null   int64 \n",
      " 21  toCoupon_GEQ25min     1199 non-null   int64 \n",
      " 22  direction_same        1199 non-null   int64 \n",
      " 23  direction_opp         1199 non-null   int64 \n",
      " 24  Y                     1199 non-null   int64 \n",
      "dtypes: int64(8), object(17)\n",
      "memory usage: 243.5+ KB\n",
      "RestaurantLessThan20  Y\n",
      "4~8                   1    181\n",
      "                      0     84\n",
      "gt8                   1     90\n",
      "                      0     35\n",
      "Name: Y, dtype: int64\n",
      "390\n",
      "69.48717948717949\n"
     ]
    }
   ],
   "source": [
    "#go to cheap restaurants more than 4 times a month and income is less than 50K.\n",
    "cheap_rest_data = data\n",
    "cheap_rest_data1 = cheap_rest_data[cheap_rest_data['coupon'] == 'Restaurant(<20)']\n",
    "income_opt =['$12500 - $24999','$25000 - $37499','$37500 - $49999']\n",
    "#We have 386 entrues where coupon is Restaurant<20 and salary less than 50000\n",
    "#cheap_rest_data_income_filter.head(5)\n",
    "\n",
    "\n",
    "cheap_rest_data_income_filter = cheap_rest_data1[cheap_rest_data1['income'].isin(income_opt)]\n",
    "cheap_rest_data_income_filter.info()\n",
    "rest_opt = ['4~8','gt8']\n",
    "req_data_filter = cheap_rest_data_income_filter[cheap_rest_data_income_filter['RestaurantLessThan20'].isin(rest_opt)]\n",
    "y = req_data_filter.groupby('RestaurantLessThan20')['Y'].value_counts()\n",
    "print(y)\n",
    "\n",
    "total_Acc =  req_data_filter.groupby('RestaurantLessThan20')['Y'].value_counts().sum()\n",
    "print(total_Acc)\n",
    "yes_acc = 181+90\n",
    "acc_Rate = (yes_acc/total_Acc)*100\n",
    "print(acc_Rate)\n",
    "#Acc rate is around 70%"
   ]
  },
  {
   "cell_type": "markdown",
   "metadata": {},
   "source": [
    "7.  Based on these observations, what do you hypothesize about drivers who accepted the bar coupons?"
   ]
  },
  {
   "cell_type": "code",
   "execution_count": null,
   "metadata": {},
   "outputs": [],
   "source": [
    "#Basically drivers who acceptred the bar coupons were generally the folks who would go to the Bar \n",
    "#atleast more than once and under the age of 30\n",
    "\n",
    "#Also generally people who would go to the Bar more than once were so much more likelier to \n",
    "#accept the bar coupons"
   ]
  },
  {
   "cell_type": "markdown",
   "metadata": {},
   "source": [
    "### Independent Investigation\n",
    "\n",
    "Using the bar coupon example as motivation, you are to explore one of the other coupon groups and try to determine the characteristics of passengers who accept the coupons.  "
   ]
  },
  {
   "cell_type": "code",
   "execution_count": 207,
   "metadata": {},
   "outputs": [
    {
     "name": "stdout",
     "output_type": "stream",
     "text": [
      "RestaurantLessThan20  Y\n",
      "4~8                   1    54\n",
      "                      0    33\n",
      "gt8                   1    26\n",
      "                      0    14\n",
      "Name: Y, dtype: int64\n",
      "127\n",
      "62.99212598425197\n",
      "RestaurantLessThan20  Y\n",
      "4~8                   1    556\n",
      "                      0    220\n",
      "gt8                   1    219\n",
      "                      0     69\n",
      "Name: Y, dtype: int64\n",
      "1064\n",
      "72.83834586466166\n",
      "RestaurantLessThan20  Y\n",
      "4~8                   1    129\n",
      "                      0     39\n",
      "gt8                   1     41\n",
      "                      0     12\n",
      "Name: Y, dtype: int64\n",
      "221\n",
      "76.92307692307693\n"
     ]
    }
   ],
   "source": [
    "#Accepting - coupontype Restaurant(<20) more than 4 times a month and income is less than 25K.\n",
    "cheap_rest_data = data\n",
    "cheap_rest_data1 = cheap_rest_data[cheap_rest_data['coupon'] == 'Restaurant(<20)']\n",
    "income_opt =['$12500 - $24999']\n",
    "\n",
    "cheap_rest_data_income_filter = cheap_rest_data1[cheap_rest_data1['income'].isin(income_opt)]\n",
    "rest_opt = ['4~8','gt8']\n",
    "req_data_filter = cheap_rest_data_income_filter[cheap_rest_data_income_filter['RestaurantLessThan20'].isin(rest_opt)]\n",
    "y = req_data_filter.groupby('RestaurantLessThan20')['Y'].value_counts()\n",
    "print(y)\n",
    "\n",
    "total_Acc =  req_data_filter.groupby('RestaurantLessThan20')['Y'].value_counts().sum()\n",
    "print(total_Acc)\n",
    "yes_acc = 54+26\n",
    "acc_Rate = (yes_acc/total_Acc)*100\n",
    "print(acc_Rate)\n",
    "#Acc rate is 63%. So acceptance rate actually reduced.\n",
    "\n",
    "\n",
    "#Accepting - coupontype Restaurant(<20) more than 4 times a month - lets have no limit on the income\n",
    "\n",
    "cheap_rest_data = data\n",
    "cheap_rest_data1 = cheap_rest_data[cheap_rest_data['coupon'] == 'Restaurant(<20)']\n",
    "\n",
    "rest_opt1 = ['4~8','gt8']\n",
    "req_data_filter = cheap_rest_data1[cheap_rest_data1['RestaurantLessThan20'].isin(rest_opt)]\n",
    "y = req_data_filter.groupby('RestaurantLessThan20')['Y'].value_counts()\n",
    "print(y)\n",
    "\n",
    "total_Acc =  req_data_filter.groupby('RestaurantLessThan20')['Y'].value_counts().sum()\n",
    "print(total_Acc)\n",
    "yes_acc = 556+219\n",
    "acc_Rate = (yes_acc/total_Acc)*100\n",
    "print(acc_Rate)\n",
    "#Acceptance rate is 72.83\n",
    "\n",
    "#Accepting - coupontype Restaurant(<20) more than 4 times a month - lets have income is >50K but less than 75K\n",
    "cheap_rest_data = data\n",
    "cheap_rest_data1 = cheap_rest_data[cheap_rest_data['coupon'] == 'Restaurant(<20)']\n",
    "income_opt =['$50000 - $62499','$62500 - $74999']\n",
    "\n",
    "cheap_rest_data_income_filter = cheap_rest_data1[cheap_rest_data1['income'].isin(income_opt)]\n",
    "rest_opt = ['4~8','gt8']\n",
    "req_data_filter = cheap_rest_data_income_filter[cheap_rest_data_income_filter['RestaurantLessThan20'].isin(rest_opt)]\n",
    "y = req_data_filter.groupby('RestaurantLessThan20')['Y'].value_counts()\n",
    "print(y)\n",
    "\n",
    "total_Acc =  req_data_filter.groupby('RestaurantLessThan20')['Y'].value_counts().sum()\n",
    "print(total_Acc)\n",
    "yes_acc = 129+41\n",
    "acc_Rate = (yes_acc/total_Acc)*100\n",
    "print(acc_Rate)\n",
    "#76.92"
   ]
  },
  {
   "cell_type": "code",
   "execution_count": null,
   "metadata": {},
   "outputs": [],
   "source": []
  },
  {
   "cell_type": "code",
   "execution_count": null,
   "metadata": {},
   "outputs": [],
   "source": []
  },
  {
   "cell_type": "code",
   "execution_count": null,
   "metadata": {},
   "outputs": [],
   "source": []
  },
  {
   "cell_type": "code",
   "execution_count": null,
   "metadata": {},
   "outputs": [],
   "source": []
  }
 ],
 "metadata": {
  "kernelspec": {
   "display_name": "Python 3 (ipykernel)",
   "language": "python",
   "name": "python3"
  },
  "language_info": {
   "codemirror_mode": {
    "name": "ipython",
    "version": 3
   },
   "file_extension": ".py",
   "mimetype": "text/x-python",
   "name": "python",
   "nbconvert_exporter": "python",
   "pygments_lexer": "ipython3",
   "version": "3.11.4"
  },
  "widgets": {
   "application/vnd.jupyter.widget-state+json": {
    "state": {},
    "version_major": 2,
    "version_minor": 0
   }
  }
 },
 "nbformat": 4,
 "nbformat_minor": 4
}
